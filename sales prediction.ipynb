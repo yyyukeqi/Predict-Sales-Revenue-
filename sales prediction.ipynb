{
 "cells": [
  {
   "cell_type": "code",
   "execution_count": null,
   "id": "e52631e8",
   "metadata": {},
   "outputs": [],
   "source": [
    "# pip install xgboost\n",
    "# !pip install keras\n",
    "# !pip install tensorflow\n",
    "# !pip install sklearn"
   ]
  },
  {
   "cell_type": "code",
   "execution_count": null,
   "id": "16d4c8bd",
   "metadata": {},
   "outputs": [],
   "source": [
    "import pandas as pd\n",
    "import numpy as np\n",
    "from sklearn.preprocessing import MinMaxScaler\n",
    "from xgboost import XGBRegressor\n",
    "from sklearn.metrics import mean_squared_error\n",
    "from keras.models import Sequential\n",
    "from keras.layers import LSTM, Dense\n",
    "from datetime import datetime\n",
    "import matplotlib.pyplot as plt"
   ]
  },
  {
   "cell_type": "markdown",
   "id": "0ad87d1d",
   "metadata": {},
   "source": [
    "# Input the data"
   ]
  },
  {
   "cell_type": "code",
   "execution_count": null,
   "id": "9610e489",
   "metadata": {},
   "outputs": [],
   "source": [
    "data = pd.read_csv(\"https://filtereddatasets.s3.amazonaws.com/Groceries_retail/Groceriesv2.csv\")\n",
    "data.head()"
   ]
  },
  {
   "cell_type": "code",
   "execution_count": null,
   "id": "c8532826",
   "metadata": {},
   "outputs": [],
   "source": [
    "data.info()"
   ]
  },
  {
   "cell_type": "code",
   "execution_count": null,
   "id": "86a42fa5",
   "metadata": {},
   "outputs": [],
   "source": [
    "data.describe()"
   ]
  },
  {
   "cell_type": "code",
   "execution_count": null,
   "id": "9cf9b59e",
   "metadata": {},
   "outputs": [],
   "source": [
    "#check missing\n",
    "data.isnull().sum()"
   ]
  },
  {
   "cell_type": "markdown",
   "id": "e0d008c3",
   "metadata": {},
   "source": [
    "# EDA"
   ]
  },
  {
   "cell_type": "code",
   "execution_count": null,
   "id": "72abdd69",
   "metadata": {},
   "outputs": [],
   "source": [
    "data[\"Prod_name\"].value_counts()\n",
    "data[data[\"Prod_name\"] == \"Pepper - Gypsy Pepper\" ]"
   ]
  },
  {
   "cell_type": "code",
   "execution_count": null,
   "id": "b6875d90",
   "metadata": {},
   "outputs": [],
   "source": [
    "data[\"Sale_date\"]=pd.to_datetime(data[\"Sale_date\"])\n",
    "data[\"Sale_time\"]=pd.to_timedelta(data[\"Sale_time\"])"
   ]
  },
  {
   "cell_type": "code",
   "execution_count": null,
   "id": "3b4127ae",
   "metadata": {},
   "outputs": [],
   "source": [
    "data[\"Prod_no\"]=pd.Categorical(data.Prod_no)\n",
    "data['Total'] = data['Total_amt'].str.extract(r'(\\d+.\\d+)').astype('float')"
   ]
  },
  {
   "cell_type": "code",
   "execution_count": null,
   "id": "7e0222eb",
   "metadata": {},
   "outputs": [],
   "source": [
    "#find the categorialfeatures\n",
    "list_1=list(data.columns)\n",
    "list_2 = ['No_of_units','Unit_price','Sale_time',\"Total_amt\"]\n",
    "list_new = [e for e in list_1 if e not in list_2]\n",
    "list_new"
   ]
  },
  {
   "cell_type": "code",
   "execution_count": null,
   "id": "42fa05eb",
   "metadata": {},
   "outputs": [],
   "source": [
    "data_new=data[list_new]\n",
    "data_new.info()"
   ]
  },
  {
   "cell_type": "code",
   "execution_count": null,
   "id": "2b43e5cf",
   "metadata": {},
   "outputs": [],
   "source": [
    "# Time Series\n",
    "data_new[\"Total\"].groupby(data_new[\"Sale_date\"]).sum().plot(kind='line')"
   ]
  },
  {
   "cell_type": "code",
   "execution_count": null,
   "id": "161174f4",
   "metadata": {},
   "outputs": [],
   "source": [
    "data_total=data_new.groupby([\"Sale_date\"])['Total'].sum().reset_index()\n",
    "data_total.info()"
   ]
  },
  {
   "cell_type": "code",
   "execution_count": null,
   "id": "9bb82f97",
   "metadata": {},
   "outputs": [],
   "source": [
    "data_total.dropna(inplace=True)"
   ]
  },
  {
   "cell_type": "markdown",
   "id": "1c078719",
   "metadata": {},
   "source": [
    "# Preprocess the data"
   ]
  },
  {
   "cell_type": "code",
   "execution_count": null,
   "id": "798c07c2",
   "metadata": {},
   "outputs": [],
   "source": [
    "# split the data\n",
    "train_size=int(0.8*len(data_total))\n",
    "train_data = data_total[:train_size]\n",
    "test_data = data_total[train_size:]"
   ]
  },
  {
   "cell_type": "code",
   "execution_count": null,
   "id": "c22f4ddf",
   "metadata": {},
   "outputs": [],
   "source": [
    "scaler = MinMaxScaler(feature_range=(0,1))\n",
    "train_data_scaled = scaler.fit_transform(train_data['Total'].values.reshape(-1, 1))\n",
    "test_data_scaled = scaler.transform(test_data['Total'].values.reshape(-1, 1))"
   ]
  },
  {
   "cell_type": "code",
   "execution_count": null,
   "id": "353f7fde",
   "metadata": {},
   "outputs": [],
   "source": [
    "def create_sequences(data, seq_length):\n",
    "    x = []\n",
    "    y = []\n",
    "\n",
    "    for i in range(len(data) - seq_length - 1):\n",
    "        x.append(data[i : (i + seq_length)])\n",
    "        y.append(data[i + seq_length])\n",
    "\n",
    "    return np.array(x), np.array(y)\n",
    "\n",
    "seq_length = 7\n",
    "X_train, y_train = create_sequences(train_data_scaled, seq_length)\n",
    "X_test, y_test = create_sequences(test_data_scaled, seq_length)"
   ]
  },
  {
   "cell_type": "markdown",
   "id": "662540e5",
   "metadata": {},
   "source": [
    "# Build LSTM Model"
   ]
  },
  {
   "cell_type": "code",
   "execution_count": null,
   "id": "421daaea",
   "metadata": {},
   "outputs": [],
   "source": [
    "# Build the LSTM model\n",
    "model = Sequential()\n",
    "model.add(LSTM(50, input_shape=(X_train.shape[1], X_train.shape[2])))\n",
    "model.add(Dense(1))\n",
    "model.compile(loss=\"mean_squared_error\", optimizer=\"adam\")\n",
    "\n",
    "# Train the model\n",
    "model.fit(X_train, y_train, epochs=25, batch_size=1, verbose=1)"
   ]
  },
  {
   "cell_type": "code",
   "execution_count": null,
   "id": "e220100b",
   "metadata": {},
   "outputs": [],
   "source": [
    "# Validate the model\n",
    "y_pred = model.predict(X_test)\n",
    "\n",
    "# Invert scaling to get the actual sales values\n",
    "y_validation = scaler.inverse_transform(y_test)\n",
    "y_pred_1 = scaler.inverse_transform(y_pred)\n",
    "\n",
    "# Calculate performance metrics\n",
    "mse = mean_squared_error(y_validation, y_pred_1)\n",
    "rmse = np.sqrt(mse)\n",
    "\n",
    "print(f\"Mean Squared Error: {mse:.2f}\")\n",
    "print(f\"Root Mean Squared Error: {rmse:.2f}\")"
   ]
  },
  {
   "cell_type": "code",
   "execution_count": null,
   "id": "fcfc5214",
   "metadata": {},
   "outputs": [],
   "source": [
    "def make_predictions(model, last_seq, num_predictions, seq_length):\n",
    "    predictions = []\n",
    "    current_seq = last_seq.reshape(1, seq_length, 1)\n",
    "    \n",
    "    for _ in range(num_predictions):\n",
    "        pred = model.predict(current_seq)\n",
    "        predictions.append(pred)\n",
    "        \n",
    "        # Update the current sequence\n",
    "        current_seq = np.append(current_seq[:, 1:, :], pred)\n",
    "        current_seq = current_seq.reshape(1, seq_length, 1)\n",
    "    \n",
    "    return np.array(predictions)\n",
    "\n",
    "# Make predictions for the specified period\n",
    "num_predictions = 7\n",
    "data_normalized = scaler.fit_transform(data_total['Total'].values.reshape(-1, 1))\n",
    "last_seq = data_normalized[-seq_length:]\n",
    "predictions = make_predictions(model, last_seq, num_predictions, seq_length)"
   ]
  },
  {
   "cell_type": "code",
   "execution_count": null,
   "id": "24b6fe72",
   "metadata": {},
   "outputs": [],
   "source": [
    "array_2d = predictions.reshape(-1, predictions.shape[2])"
   ]
  },
  {
   "cell_type": "code",
   "execution_count": null,
   "id": "802c0dbf",
   "metadata": {},
   "outputs": [],
   "source": [
    "# Invert scaling to get the actual sales values\n",
    "predictions = scaler.inverse_transform(array_2d)\n",
    "\n",
    "# Display the predictions\n",
    "target_dates = pd.date_range(start='2018-01-01', end='2018-01-07')\n",
    "for date, prediction in zip(target_dates, predictions):\n",
    "    print(f\"Predicted sales for {date.strftime('%Y-%m-%d')}: {prediction[0]:.2f}\")"
   ]
  },
  {
   "cell_type": "code",
   "execution_count": null,
   "id": "44093b46",
   "metadata": {},
   "outputs": [],
   "source": [
    "next_week_sales_lstm=[]\n",
    "for prediction in predictions:\n",
    "    next_week_sales_lstm.append(prediction[0]) "
   ]
  },
  {
   "cell_type": "markdown",
   "id": "e5447e1c",
   "metadata": {},
   "source": [
    "# Result plot"
   ]
  },
  {
   "cell_type": "code",
   "execution_count": null,
   "id": "b41cc4dd",
   "metadata": {},
   "outputs": [],
   "source": [
    "# Create a trace for the actual sales data\n",
    "trace_actual = go.Scatter(x=data_total['Sale_date'], y=data_total['Total'], name='Actual')\n",
    "\n",
    "# Create a trace for the predicted sales data\n",
    "next_week_dates = pd.date_range(start='2018-01-01', end='2018-01-07')\n",
    "trace_predicted = go.Scatter(x=next_week_dates, y=next_week_sales_lstm, name='Predicted')\n",
    "\n",
    "# Create the plot layout\n",
    "layout = go.Layout(title='Actual vs. Predicted Sales Revenue',\n",
    "                   xaxis=dict(title='Date'),\n",
    "                   yaxis=dict(title='Sales Revenue'))\n",
    "\n",
    "# Plot the data and layout using the Figure object\n",
    "fig = go.Figure(data=[trace_actual, trace_predicted], layout=layout)\n",
    "\n",
    "# Show the plot\n",
    "fig.show()"
   ]
  }
 ],
 "metadata": {
  "kernelspec": {
   "display_name": "Python 3.9.7 ('base')",
   "language": "python",
   "name": "python3"
  },
  "language_info": {
   "codemirror_mode": {
    "name": "ipython",
    "version": 3
   },
   "file_extension": ".py",
   "mimetype": "text/x-python",
   "name": "python",
   "nbconvert_exporter": "python",
   "pygments_lexer": "ipython3",
   "version": "3.9.7"
  },
  "vscode": {
   "interpreter": {
    "hash": "0da0365a4a05ffc6a34eb09e7d395b6f5b17768528989011df724455bafe1f15"
   }
  }
 },
 "nbformat": 4,
 "nbformat_minor": 5
}
